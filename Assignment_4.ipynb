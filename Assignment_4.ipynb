{
 "cells": [
  {
   "cell_type": "code",
   "execution_count": 1,
   "metadata": {},
   "outputs": [],
   "source": [
    "import numpy as np\n",
    "import pandas as pd"
   ]
  },
  {
   "cell_type": "markdown",
   "metadata": {},
   "source": [
    "\n",
    "1.1\n",
    "Write a Python Program(with class concepts) to find the area of the triangle using the below formula: area = (s(s-a)(s-b)*(s-c)) ** 0.5\n",
    "\n",
    "Function to take the length of the sides of triangle from user should be defined in the parent class and function to calculate the area should be defined in subclass."
   ]
  },
  {
   "cell_type": "code",
   "execution_count": 9,
   "metadata": {},
   "outputs": [
    {
     "name": "stdout",
     "output_type": "stream",
     "text": [
      "Input side a: 4\n",
      "Input side b: 6\n",
      "Input side c: 5\n",
      "The area of the triangle is: 9.921567416492215\n"
     ]
    }
   ],
   "source": [
    "import math\n",
    "class Area():\n",
    "    a = input('Input side a: ')\n",
    "    a = float(a)\n",
    "    b = input('Input side b: ')\n",
    "    b = float(b)\n",
    "    c = input('Input side c: ')\n",
    "    c = float(c)\n",
    "    s = (a+b+c)/2\n",
    "\n",
    "class Triangle(Area):\n",
    "    def triangle_area(self):\n",
    "        if Area.a+Area.b<Area.c or Area.a+Area.c<Area.b or Area.b+Area.c<Area.a:\n",
    "            print('Area of triangle can not be calculated')\n",
    "        else:\n",
    "            area_of_triangle = math.sqrt(Area.s*(Area.s-Area.a)*(Area.s-Area.b)*(Area.s-Area.c))\n",
    "            print(f'The area of the triangle is: {area_of_triangle}') \n",
    "\n",
    "c = Triangle()\n",
    "c.triangle_area()"
   ]
  },
  {
   "cell_type": "markdown",
   "metadata": {},
   "source": [
    "### 1.2\n",
    "- Write a function filter_long_words() that takes a list of words and an integer n and returns the list of words that are longer than n."
   ]
  },
  {
   "cell_type": "code",
   "execution_count": 4,
   "metadata": {},
   "outputs": [],
   "source": [
    "def filter_long_words(list_of_words,n):\n",
    "    new_list = []\n",
    "    for words in list_of_words:\n",
    "        if len(words)>n:\n",
    "            new_list.append(words)\n",
    "    return new_list"
   ]
  },
  {
   "cell_type": "code",
   "execution_count": 9,
   "metadata": {},
   "outputs": [
    {
     "name": "stdout",
     "output_type": "stream",
     "text": [
      "['satish', 'shamkumar']\n"
     ]
    }
   ],
   "source": [
    "names= filter_long_words(['Anil','vijay','satish','shamkumar'],5)\n",
    "print(names)"
   ]
  },
  {
   "cell_type": "markdown",
   "metadata": {},
   "source": [
    "#### 2.1\n",
    "- Write a Python program using function concept that maps list of words into a list of integers representing the lengths of the corresponding words.\n",
    "\n",
    " -- Hint: If a list [ ab,cde,erty] is passed on to the python function output should come as [2,3,4] Here 2,3 and 4 are the lengths of the words in the list."
   ]
  },
  {
   "cell_type": "code",
   "execution_count": 11,
   "metadata": {},
   "outputs": [],
   "source": [
    "def name(list_of_words):\n",
    "    new_list_names = []\n",
    "    for i in list_of_words:\n",
    "        new_list_names.append(len(i))\n",
    "    return new_list_names"
   ]
  },
  {
   "cell_type": "code",
   "execution_count": 12,
   "metadata": {},
   "outputs": [
    {
     "data": {
      "text/plain": [
       "[4, 5, 5]"
      ]
     },
     "execution_count": 12,
     "metadata": {},
     "output_type": "execute_result"
    }
   ],
   "source": [
    "name(['anil','kumar','vijay'])"
   ]
  },
  {
   "cell_type": "markdown",
   "metadata": {},
   "source": [
    "### 2.2\n",
    "- Write a Python function which takes a character (i.e. a string of length 1) and returns True if it is a vowel, False otherwise"
   ]
  },
  {
   "cell_type": "code",
   "execution_count": 31,
   "metadata": {},
   "outputs": [],
   "source": [
    "def vowel_words():\n",
    "    words = input('Type:')\n",
    "    vowels = ['a','e','i','o','u','A','E','I','O','U']\n",
    "    if words in vowels:\n",
    "        return True\n",
    "    else:\n",
    "        return False"
   ]
  },
  {
   "cell_type": "code",
   "execution_count": 34,
   "metadata": {},
   "outputs": [
    {
     "name": "stdout",
     "output_type": "stream",
     "text": [
      "Type:A\n"
     ]
    },
    {
     "data": {
      "text/plain": [
       "True"
      ]
     },
     "execution_count": 34,
     "metadata": {},
     "output_type": "execute_result"
    }
   ],
   "source": [
    "vowel_words()"
   ]
  },
  {
   "cell_type": "code",
   "execution_count": null,
   "metadata": {},
   "outputs": [],
   "source": []
  }
 ],
 "metadata": {
  "kernelspec": {
   "display_name": "Python 3",
   "language": "python",
   "name": "python3"
  },
  "language_info": {
   "codemirror_mode": {
    "name": "ipython",
    "version": 3
   },
   "file_extension": ".py",
   "mimetype": "text/x-python",
   "name": "python",
   "nbconvert_exporter": "python",
   "pygments_lexer": "ipython3",
   "version": "3.7.6"
  }
 },
 "nbformat": 4,
 "nbformat_minor": 4
}
